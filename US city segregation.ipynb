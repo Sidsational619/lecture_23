{
 "cells": [
  {
   "cell_type": "markdown",
   "id": "3b33b561",
   "metadata": {},
   "source": [
    "# Racial segregation in US Cities Today \n",
    "-  By Siddharth Prasad | Div B"
   ]
  },
  {
   "cell_type": "code",
   "execution_count": 1,
   "id": "735d806f",
   "metadata": {},
   "outputs": [],
   "source": [
    "# project setup \n",
    "import pandas as pd "
   ]
  },
  {
   "cell_type": "code",
   "execution_count": 2,
   "id": "a53549e2",
   "metadata": {},
   "outputs": [
    {
     "data": {
      "text/html": [
       "<div>\n",
       "<style scoped>\n",
       "    .dataframe tbody tr th:only-of-type {\n",
       "        vertical-align: middle;\n",
       "    }\n",
       "\n",
       "    .dataframe tbody tr th {\n",
       "        vertical-align: top;\n",
       "    }\n",
       "\n",
       "    .dataframe thead th {\n",
       "        text-align: right;\n",
       "    }\n",
       "</style>\n",
       "<table border=\"1\" class=\"dataframe\">\n",
       "  <thead>\n",
       "    <tr style=\"text-align: right;\">\n",
       "      <th></th>\n",
       "      <th>GEOID</th>\n",
       "      <th>GEO.display.label</th>\n",
       "      <th>pop</th>\n",
       "      <th>pop.white</th>\n",
       "      <th>pop.not.white</th>\n",
       "      <th>pct.white</th>\n",
       "      <th>pct.not.white</th>\n",
       "    </tr>\n",
       "  </thead>\n",
       "  <tbody>\n",
       "    <tr>\n",
       "      <th>0</th>\n",
       "      <td>17031010201</td>\n",
       "      <td>17031010201</td>\n",
       "      <td>6450</td>\n",
       "      <td>2312</td>\n",
       "      <td>4138</td>\n",
       "      <td>0.358450</td>\n",
       "      <td>0.641550</td>\n",
       "    </tr>\n",
       "    <tr>\n",
       "      <th>1</th>\n",
       "      <td>17031010202</td>\n",
       "      <td>17031010202</td>\n",
       "      <td>2818</td>\n",
       "      <td>1237</td>\n",
       "      <td>1581</td>\n",
       "      <td>0.438964</td>\n",
       "      <td>0.561036</td>\n",
       "    </tr>\n",
       "    <tr>\n",
       "      <th>2</th>\n",
       "      <td>17031010300</td>\n",
       "      <td>17031010300</td>\n",
       "      <td>6236</td>\n",
       "      <td>3267</td>\n",
       "      <td>2969</td>\n",
       "      <td>0.523894</td>\n",
       "      <td>0.476106</td>\n",
       "    </tr>\n",
       "    <tr>\n",
       "      <th>3</th>\n",
       "      <td>17031010400</td>\n",
       "      <td>17031010400</td>\n",
       "      <td>5042</td>\n",
       "      <td>3341</td>\n",
       "      <td>1701</td>\n",
       "      <td>0.662634</td>\n",
       "      <td>0.337366</td>\n",
       "    </tr>\n",
       "    <tr>\n",
       "      <th>4</th>\n",
       "      <td>17031010503</td>\n",
       "      <td>17031010503</td>\n",
       "      <td>2290</td>\n",
       "      <td>1452</td>\n",
       "      <td>838</td>\n",
       "      <td>0.634061</td>\n",
       "      <td>0.365939</td>\n",
       "    </tr>\n",
       "  </tbody>\n",
       "</table>\n",
       "</div>"
      ],
      "text/plain": [
       "         GEOID  GEO.display.label   pop  pop.white  pop.not.white  pct.white  \\\n",
       "0  17031010201        17031010201  6450       2312           4138   0.358450   \n",
       "1  17031010202        17031010202  2818       1237           1581   0.438964   \n",
       "2  17031010300        17031010300  6236       3267           2969   0.523894   \n",
       "3  17031010400        17031010400  5042       3341           1701   0.662634   \n",
       "4  17031010503        17031010503  2290       1452            838   0.634061   \n",
       "\n",
       "   pct.not.white  \n",
       "0       0.641550  \n",
       "1       0.561036  \n",
       "2       0.476106  \n",
       "3       0.337366  \n",
       "4       0.365939  "
      ]
     },
     "execution_count": 2,
     "metadata": {},
     "output_type": "execute_result"
    }
   ],
   "source": [
    "# import chicago data \n",
    "chicago_df = pd.read_csv(\"data/prepped/chicago_race.csv\")\n",
    "\n",
    "# printing the first five rows\n",
    "chicago_df.head(5)"
   ]
  },
  {
   "cell_type": "code",
   "execution_count": 3,
   "id": "0a0a9543",
   "metadata": {},
   "outputs": [
    {
     "name": "stdout",
     "output_type": "stream",
     "text": [
      "There are  2513996 white people\n",
      "There are  2134618 non white people\n",
      "The Diversity Ratio is  1.1777264128757463\n"
     ]
    }
   ],
   "source": [
    "total_white_people = chicago_df[\"pop.white\"].sum()\n",
    "print(\"There are \",total_white_people,\"white people\")\n",
    "\n",
    "total_not_white_people = chicago_df[\"pop.not.white\"].sum()\n",
    "print(\"There are \",total_not_white_people,\"non white people\")\n",
    "\n",
    "diversity_ratio = total_white_people/total_not_white_people\n",
    "print(\"The Diversity Ratio is \",diversity_ratio)"
   ]
  },
  {
   "cell_type": "markdown",
   "id": "bad350bc",
   "metadata": {},
   "source": [
    "# Measuring chicago's Interaction Index"
   ]
  },
  {
   "cell_type": "code",
   "execution_count": 4,
   "id": "ef3e11b1",
   "metadata": {},
   "outputs": [
    {
     "data": {
      "text/html": [
       "<div>\n",
       "<style scoped>\n",
       "    .dataframe tbody tr th:only-of-type {\n",
       "        vertical-align: middle;\n",
       "    }\n",
       "\n",
       "    .dataframe tbody tr th {\n",
       "        vertical-align: top;\n",
       "    }\n",
       "\n",
       "    .dataframe thead th {\n",
       "        text-align: right;\n",
       "    }\n",
       "</style>\n",
       "<table border=\"1\" class=\"dataframe\">\n",
       "  <thead>\n",
       "    <tr style=\"text-align: right;\">\n",
       "      <th></th>\n",
       "      <th>GEOID</th>\n",
       "      <th>GEO.display.label</th>\n",
       "      <th>pop</th>\n",
       "      <th>pop.white</th>\n",
       "      <th>pop.not.white</th>\n",
       "      <th>pct.white</th>\n",
       "      <th>pct.not.white</th>\n",
       "      <th>interaction_index</th>\n",
       "    </tr>\n",
       "  </thead>\n",
       "  <tbody>\n",
       "    <tr>\n",
       "      <th>0</th>\n",
       "      <td>17031010201</td>\n",
       "      <td>17031010201</td>\n",
       "      <td>6450</td>\n",
       "      <td>2312</td>\n",
       "      <td>4138</td>\n",
       "      <td>0.358450</td>\n",
       "      <td>0.641550</td>\n",
       "      <td>0.000695</td>\n",
       "    </tr>\n",
       "    <tr>\n",
       "      <th>1</th>\n",
       "      <td>17031010202</td>\n",
       "      <td>17031010202</td>\n",
       "      <td>2818</td>\n",
       "      <td>1237</td>\n",
       "      <td>1581</td>\n",
       "      <td>0.438964</td>\n",
       "      <td>0.561036</td>\n",
       "      <td>0.000325</td>\n",
       "    </tr>\n",
       "    <tr>\n",
       "      <th>2</th>\n",
       "      <td>17031010300</td>\n",
       "      <td>17031010300</td>\n",
       "      <td>6236</td>\n",
       "      <td>3267</td>\n",
       "      <td>2969</td>\n",
       "      <td>0.523894</td>\n",
       "      <td>0.476106</td>\n",
       "      <td>0.000729</td>\n",
       "    </tr>\n",
       "    <tr>\n",
       "      <th>3</th>\n",
       "      <td>17031010400</td>\n",
       "      <td>17031010400</td>\n",
       "      <td>5042</td>\n",
       "      <td>3341</td>\n",
       "      <td>1701</td>\n",
       "      <td>0.662634</td>\n",
       "      <td>0.337366</td>\n",
       "      <td>0.000528</td>\n",
       "    </tr>\n",
       "    <tr>\n",
       "      <th>4</th>\n",
       "      <td>17031010503</td>\n",
       "      <td>17031010503</td>\n",
       "      <td>2290</td>\n",
       "      <td>1452</td>\n",
       "      <td>838</td>\n",
       "      <td>0.634061</td>\n",
       "      <td>0.365939</td>\n",
       "      <td>0.000249</td>\n",
       "    </tr>\n",
       "  </tbody>\n",
       "</table>\n",
       "</div>"
      ],
      "text/plain": [
       "         GEOID  GEO.display.label   pop  pop.white  pop.not.white  pct.white  \\\n",
       "0  17031010201        17031010201  6450       2312           4138   0.358450   \n",
       "1  17031010202        17031010202  2818       1237           1581   0.438964   \n",
       "2  17031010300        17031010300  6236       3267           2969   0.523894   \n",
       "3  17031010400        17031010400  5042       3341           1701   0.662634   \n",
       "4  17031010503        17031010503  2290       1452            838   0.634061   \n",
       "\n",
       "   pct.not.white  interaction_index  \n",
       "0       0.641550           0.000695  \n",
       "1       0.561036           0.000325  \n",
       "2       0.476106           0.000729  \n",
       "3       0.337366           0.000528  \n",
       "4       0.365939           0.000249  "
      ]
     },
     "execution_count": 4,
     "metadata": {},
     "output_type": "execute_result"
    }
   ],
   "source": [
    "total_minority_pop = chicago_df[\"pop.not.white\"].sum()\n",
    "chicago_df[\"interaction_index\"]= (chicago_df[\"pop.not.white\"]/total_minority_pop)*(chicago_df[\"pop.white\"]/chicago_df[\"pop\"])\n",
    "\n",
    "chicago_df.head(5)"
   ]
  },
  {
   "cell_type": "code",
   "execution_count": 5,
   "id": "01fbc89b",
   "metadata": {},
   "outputs": [
    {
     "data": {
      "text/plain": [
       "0.33621530101878605"
      ]
     },
     "execution_count": 5,
     "metadata": {},
     "output_type": "execute_result"
    }
   ],
   "source": [
    "interaction_index_of_chicago=chicago_df[\"interaction_index\"].sum()\n",
    "interaction_index_of_chicago"
   ]
  },
  {
   "cell_type": "code",
   "execution_count": 6,
   "id": "b5fa9bee",
   "metadata": {},
   "outputs": [],
   "source": [
    "import os"
   ]
  },
  {
   "cell_type": "code",
   "execution_count": 7,
   "id": "45f12eb4",
   "metadata": {},
   "outputs": [
    {
     "data": {
      "text/plain": [
       "['baltimore_race.csv',\n",
       " 'charleston_race.csv',\n",
       " 'chicago_race.csv',\n",
       " 'columbus_race.csv',\n",
       " 'dayton_race.csv',\n",
       " 'denver_race.csv',\n",
       " 'kc_race.csv',\n",
       " 'memphis_race.csv',\n",
       " 'milwaukee_race.csv',\n",
       " 'ok_city_race.csv',\n",
       " 'pittsburgh_race.csv',\n",
       " 'st_louis_race.csv',\n",
       " 'syracuse_race.csv',\n",
       " 'wichita_race.csv']"
      ]
     },
     "execution_count": 7,
     "metadata": {},
     "output_type": "execute_result"
    }
   ],
   "source": [
    "city_file_name_list = os.listdir(\"data/prepped/\")\n",
    "city_file_name_list"
   ]
  },
  {
   "cell_type": "code",
   "execution_count": 8,
   "id": "73e93254",
   "metadata": {},
   "outputs": [],
   "source": [
    "def print_interaction_indexes():\n",
    "    \n",
    "    city_file_name_list= os.listdir(\"data/prepped/\")\n",
    "    \n",
    "    # For loop \n",
    "    # for each city\n",
    "    for city_file_name in city_file_name_list:\n",
    "        \n",
    "        # import the city data \n",
    "        city_df = pd.read_csv(\"data/prepped/\"+city_file_name)\n",
    "        \n",
    "        # calculates the total minority\n",
    "        total_minority_pop = city_df[\"pop.not.white\"].sum()\n",
    "        \n",
    "        \n",
    "        city_df[\"interaction_index\"]= (chicago_df[\"pop.not.white\"]/total_minority_pop)*(chicago_df[\"pop.white\"]/chicago_df[\"pop\"])\n",
    "        \n",
    "        interaction_index_of_city=city_df[\"interaction_index\"].sum()\n",
    "        \n",
    "        print(city_file_name.replace(\"_race.csv\",\"\").title(),\" : \",interaction_index_of_city)"
   ]
  },
  {
   "cell_type": "code",
   "execution_count": 9,
   "id": "d8c553dc",
   "metadata": {},
   "outputs": [
    {
     "name": "stdout",
     "output_type": "stream",
     "text": [
      "Baltimore  :  0.9620054248362198\n",
      "Charleston  :  0.42563148553003194\n",
      "Chicago  :  0.33621530101878605\n",
      "Columbus  :  0.5089064049907801\n",
      "Dayton  :  0.8938491079467956\n",
      "Denver  :  0.7687430064280885\n",
      "Kc  :  0.8257656548513677\n",
      "Memphis  :  0.5546278673035414\n",
      "Milwaukee  :  0.6448261658485197\n",
      "Ok_City  :  0.6411428464508728\n",
      "Pittsburgh  :  1.433334990759309\n",
      "St_Louis  :  0.6172726142184136\n",
      "Syracuse  :  1.4065213844609106\n",
      "Wichita  :  0.7832307023373242\n"
     ]
    }
   ],
   "source": [
    "print_interaction_indexes()"
   ]
  },
  {
   "cell_type": "code",
   "execution_count": 10,
   "id": "484cccfa",
   "metadata": {},
   "outputs": [],
   "source": [
    "def print_isolation_indexes():\n",
    "    \n",
    "    city_file_name_list= os.listdir(\"data/prepped/\")\n",
    "    \n",
    "    # For loop \n",
    "    # for each city\n",
    "    for city_file_name in city_file_name_list:\n",
    "        \n",
    "        # import the city data \n",
    "        city_df = pd.read_csv(\"data/prepped/\"+city_file_name)\n",
    "        \n",
    "        # calculates the total minority\n",
    "        total_minority_pop = city_df[\"pop.not.white\"].sum()\n",
    "        \n",
    "        \n",
    "        city_df[\"isolation_index\"]= (chicago_df[\"pop.not.white\"]/total_minority_pop)*(chicago_df[\"pop.not.white\"]/chicago_df[\"pop\"])\n",
    "        \n",
    "        isolation_index_of_city=city_df[\"isolation_index\"].sum()\n",
    "        \n",
    "        print(city_file_name.replace(\"_race.csv\",\"\").title(),\" : \",isolation_index_of_city)"
   ]
  },
  {
   "cell_type": "code",
   "execution_count": 11,
   "id": "9da12566",
   "metadata": {},
   "outputs": [
    {
     "name": "stdout",
     "output_type": "stream",
     "text": [
      "Baltimore  :  0.6231067892994115\n",
      "Charleston  :  0.8110603746544248\n",
      "Chicago  :  0.663784698981214\n",
      "Columbus  :  0.8113422646935053\n",
      "Dayton  :  1.0959374041414272\n",
      "Denver  :  1.1294041690321635\n",
      "Kc  :  1.1725035422592072\n",
      "Memphis  :  1.0949932701727434\n",
      "Milwaukee  :  1.0057290605509919\n",
      "Ok_City  :  1.088448917857534\n",
      "Pittsburgh  :  2.041547003925747\n",
      "St_Louis  :  0.8461366284465132\n",
      "Syracuse  :  1.1745751995927318\n",
      "Wichita  :  0.45851425314016964\n"
     ]
    }
   ],
   "source": [
    "print_isolation_indexes()"
   ]
  },
  {
   "cell_type": "code",
   "execution_count": 12,
   "id": "e44574d6",
   "metadata": {},
   "outputs": [],
   "source": [
    "def get_interaction_index(city_df):\n",
    "     # calculates the total minority\n",
    "    total_minority_pop = city_df[\"pop.not.white\"].sum()\n",
    "    #\n",
    "    city_df[\"interaction_index\"]= (city_df[\"pop.not.white\"]/total_minority_pop) * (city_df[\"pop.white\"]/city_df[\"pop\"])\n",
    "    #\n",
    "    interaction_index_of_city = city_df[\"interaction_index\"].sum() \n",
    "    \n",
    "    return interaction_index_of_city\n",
    "\n",
    "    "
   ]
  },
  {
   "cell_type": "code",
   "execution_count": 13,
   "id": "4e15df54",
   "metadata": {},
   "outputs": [],
   "source": [
    "def get_isolation_index(city_df):\n",
    "    total_minority_pop = city_df[\"pop.not.white\"].sum()\n",
    "    \n",
    "    city_df[\"isolation_index\"]= (city_df[\"pop.not.white\"]/total_minority_pop) * (city_df[\"pop.not.white\"]/city_df[\"pop\"])\n",
    "     #\n",
    "    isolation_index_of_city=city_df[\"isolation_index\"].sum()\n",
    "    \n",
    "    return isolation_index_of_city\n",
    "    "
   ]
  },
  {
   "cell_type": "code",
   "execution_count": 14,
   "id": "bc02f9d7",
   "metadata": {},
   "outputs": [],
   "source": [
    "def get_diversity_ratio(city_df):\n",
    "    \n",
    "    total_white_people = city_df[\"pop.white\"].sum()\n",
    "            \n",
    "\n",
    "    total_not_white_people = city_df[\"pop.not.white\"].sum()\n",
    "            \n",
    "    # Calculating diversity ratio\n",
    "    diversity_ratio = total_white_people/total_not_white_people\n",
    "    \n",
    "    return diversity_ratio\n",
    "    "
   ]
  },
  {
   "cell_type": "code",
   "execution_count": 15,
   "id": "db068deb",
   "metadata": {},
   "outputs": [],
   "source": [
    "def get_metrics_df():\n",
    "     \n",
    "     # getting a all the city file name \n",
    "    city_file_name_list= os.listdir(\"data/prepped/\")\n",
    "        \n",
    "     # making an empty data frame \n",
    "    metrics_df=pd.DataFrame(columns=[\"city\",\"interaction_index\",\"isolation_index\",\"diversity_ratio\"])\n",
    "        \n",
    "##############################################################################################################################\n",
    "        \n",
    "    for city_file_name in city_file_name_list:\n",
    "        \n",
    "             # import the city data \n",
    "            city_df = pd.read_csv(\"data/prepped/\"+city_file_name)\n",
    "\n",
    "             #  new row\n",
    "            new_row = {\"city\":city_file_name.replace(\"_race.csv\",\"\").title(),\n",
    "                      \"interaction_index\":get_interaction_index(city_df) ,\n",
    "                      \"isolation_index\":get_isolation_index(city_df) ,\n",
    "                      \"diversity_ratio\":get_diversity_ratio(city_df)}\n",
    "            #\n",
    "            metrics_df= metrics_df.append(new_row, ignore_index = True)\n",
    "##############################################################################################################################\n",
    "    return metrics_df.sort_values([\"diversity_ratio\"],ascending = True)\n",
    "    \n",
    "            \n",
    "        "
   ]
  },
  {
   "cell_type": "code",
   "execution_count": 16,
   "id": "51547c19",
   "metadata": {},
   "outputs": [
    {
     "data": {
      "text/html": [
       "<div>\n",
       "<style scoped>\n",
       "    .dataframe tbody tr th:only-of-type {\n",
       "        vertical-align: middle;\n",
       "    }\n",
       "\n",
       "    .dataframe tbody tr th {\n",
       "        vertical-align: top;\n",
       "    }\n",
       "\n",
       "    .dataframe thead th {\n",
       "        text-align: right;\n",
       "    }\n",
       "</style>\n",
       "<table border=\"1\" class=\"dataframe\">\n",
       "  <thead>\n",
       "    <tr style=\"text-align: right;\">\n",
       "      <th></th>\n",
       "      <th>city</th>\n",
       "      <th>interaction_index</th>\n",
       "      <th>isolation_index</th>\n",
       "      <th>diversity_ratio</th>\n",
       "    </tr>\n",
       "  </thead>\n",
       "  <tbody>\n",
       "    <tr>\n",
       "      <th>0</th>\n",
       "      <td>Baltimore</td>\n",
       "      <td>0.217094</td>\n",
       "      <td>0.782906</td>\n",
       "      <td>0.634657</td>\n",
       "    </tr>\n",
       "    <tr>\n",
       "      <th>2</th>\n",
       "      <td>Chicago</td>\n",
       "      <td>0.336215</td>\n",
       "      <td>0.663785</td>\n",
       "      <td>1.177726</td>\n",
       "    </tr>\n",
       "    <tr>\n",
       "      <th>1</th>\n",
       "      <td>Charleston</td>\n",
       "      <td>0.518106</td>\n",
       "      <td>0.481894</td>\n",
       "      <td>2.051064</td>\n",
       "    </tr>\n",
       "    <tr>\n",
       "      <th>3</th>\n",
       "      <td>Columbus</td>\n",
       "      <td>0.537027</td>\n",
       "      <td>0.462973</td>\n",
       "      <td>2.504501</td>\n",
       "    </tr>\n",
       "    <tr>\n",
       "      <th>9</th>\n",
       "      <td>Ok_City</td>\n",
       "      <td>0.613472</td>\n",
       "      <td>0.386528</td>\n",
       "      <td>2.534255</td>\n",
       "    </tr>\n",
       "    <tr>\n",
       "      <th>8</th>\n",
       "      <td>Milwaukee</td>\n",
       "      <td>0.404241</td>\n",
       "      <td>0.595759</td>\n",
       "      <td>2.770268</td>\n",
       "    </tr>\n",
       "    <tr>\n",
       "      <th>11</th>\n",
       "      <td>St_Louis</td>\n",
       "      <td>0.420453</td>\n",
       "      <td>0.579547</td>\n",
       "      <td>3.155248</td>\n",
       "    </tr>\n",
       "    <tr>\n",
       "      <th>13</th>\n",
       "      <td>Wichita</td>\n",
       "      <td>0.639562</td>\n",
       "      <td>0.360438</td>\n",
       "      <td>3.729074</td>\n",
       "    </tr>\n",
       "    <tr>\n",
       "      <th>5</th>\n",
       "      <td>Denver</td>\n",
       "      <td>0.685280</td>\n",
       "      <td>0.314720</td>\n",
       "      <td>3.744329</td>\n",
       "    </tr>\n",
       "    <tr>\n",
       "      <th>7</th>\n",
       "      <td>Memphis</td>\n",
       "      <td>0.481195</td>\n",
       "      <td>0.518805</td>\n",
       "      <td>3.794997</td>\n",
       "    </tr>\n",
       "    <tr>\n",
       "      <th>6</th>\n",
       "      <td>Kc</td>\n",
       "      <td>0.580669</td>\n",
       "      <td>0.419331</td>\n",
       "      <td>3.860438</td>\n",
       "    </tr>\n",
       "    <tr>\n",
       "      <th>4</th>\n",
       "      <td>Dayton</td>\n",
       "      <td>0.507270</td>\n",
       "      <td>0.492730</td>\n",
       "      <td>4.056282</td>\n",
       "    </tr>\n",
       "    <tr>\n",
       "      <th>10</th>\n",
       "      <td>Pittsburgh</td>\n",
       "      <td>0.602966</td>\n",
       "      <td>0.397034</td>\n",
       "      <td>5.869069</td>\n",
       "    </tr>\n",
       "    <tr>\n",
       "      <th>12</th>\n",
       "      <td>Syracuse</td>\n",
       "      <td>0.606171</td>\n",
       "      <td>0.393829</td>\n",
       "      <td>6.245594</td>\n",
       "    </tr>\n",
       "  </tbody>\n",
       "</table>\n",
       "</div>"
      ],
      "text/plain": [
       "          city  interaction_index  isolation_index  diversity_ratio\n",
       "0    Baltimore           0.217094         0.782906         0.634657\n",
       "2      Chicago           0.336215         0.663785         1.177726\n",
       "1   Charleston           0.518106         0.481894         2.051064\n",
       "3     Columbus           0.537027         0.462973         2.504501\n",
       "9      Ok_City           0.613472         0.386528         2.534255\n",
       "8    Milwaukee           0.404241         0.595759         2.770268\n",
       "11    St_Louis           0.420453         0.579547         3.155248\n",
       "13     Wichita           0.639562         0.360438         3.729074\n",
       "5       Denver           0.685280         0.314720         3.744329\n",
       "7      Memphis           0.481195         0.518805         3.794997\n",
       "6           Kc           0.580669         0.419331         3.860438\n",
       "4       Dayton           0.507270         0.492730         4.056282\n",
       "10  Pittsburgh           0.602966         0.397034         5.869069\n",
       "12    Syracuse           0.606171         0.393829         6.245594"
      ]
     },
     "execution_count": 16,
     "metadata": {},
     "output_type": "execute_result"
    }
   ],
   "source": [
    "get_metrics_df()"
   ]
  },
  {
   "cell_type": "code",
   "execution_count": 17,
   "id": "c199deaf",
   "metadata": {},
   "outputs": [
    {
     "data": {
      "text/plain": [
       "<AxesSubplot:xlabel='diversity_ratio', ylabel='interaction_index'>"
      ]
     },
     "execution_count": 17,
     "metadata": {},
     "output_type": "execute_result"
    },
    {
     "data": {
      "image/png": "[encoded data removed]",
      "text/plain": [
       "<Figure size 432x288 with 1 Axes>"
      ]
     },
     "metadata": {
      "needs_background": "light"
     },
     "output_type": "display_data"
    }
   ],
   "source": [
    "metrics_df = get_metrics_df()\n",
    "metrics_df .plot.scatter(x='diversity_ratio',y='interaction_index',c='Red')"
   ]
  },
  {
   "cell_type": "code",
   "execution_count": 18,
   "id": "9f187090",
   "metadata": {},
   "outputs": [],
   "source": [
    "metrics_df.to_csv(\"us segregation metrics.csv\")"
   ]
  },
  {
   "cell_type": "code",
   "execution_count": null,
   "id": "df45d2b5",
   "metadata": {},
   "outputs": [],
   "source": []
  },
  {
   "cell_type": "code",
   "execution_count": null,
   "id": "510fee5a",
   "metadata": {},
   "outputs": [],
   "source": []
  }
 ],
 "metadata": {
  "kernelspec": {
   "display_name": "Python 3",
   "language": "python",
   "name": "python3"
  },
  "language_info": {
   "codemirror_mode": {
    "name": "ipython",
    "version": 3
   },
   "file_extension": ".py",
   "mimetype": "text/x-python",
   "name": "python",
   "nbconvert_exporter": "python",
   "pygments_lexer": "ipython3",
   "version": "3.8.8"
  }
 },
 "nbformat": 4,
 "nbformat_minor": 5
}
